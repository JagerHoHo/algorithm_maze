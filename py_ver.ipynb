{
 "cells": [
  {
   "cell_type": "code",
   "execution_count": 1,
   "metadata": {},
   "outputs": [],
   "source": [
    "class maze_solver:\n",
    "    def __init__(self, maze,goal,start):\n",
    "        self.maze = maze\n",
    "        self.goal = goal\n",
    "        self.start = start\n",
    "    \n",
    "    def solvable(self, row:int , col:int):\n",
    "        if row < 0 or col < 0 or row > len(self.maze) -1 or col > len(self.maze[0]) -1 or self.maze[row][col]:\n",
    "            return False\n",
    "        self.maze[row][col] = \"*\"\n",
    "        if (row,col) == self.goal:\n",
    "            return True\n",
    "        if (self.solvable(row+1, col) or self.solvable(row-1, col) or self.solvable(row, col+1) or self.solvable(row, col-1)):\n",
    "            return True\n",
    "        self.maze[row][col] = 0\n",
    "        return False\n",
    "    \n",
    "    def get_ans(self):\n",
    "        if self.solvable(*self.start):\n",
    "            for row in self.maze:\n",
    "                for chr in row:\n",
    "                    print(chr, end=\"\")\n",
    "                print()\n",
    "        else:\n",
    "            print(\"No solution\")"
   ]
  },
  {
   "cell_type": "code",
   "execution_count": 3,
   "metadata": {},
   "outputs": [
    {
     "name": "stdout",
     "output_type": "stream",
     "text": [
      "*****0000\n",
      "*****0111\n",
      "0101***00\n",
      "010111*11\n",
      "010001***\n",
      "01110111*\n",
      "00010001*\n",
      "01111101*\n",
      "00000101*\n"
     ]
    }
   ],
   "source": [
    "maze = [\n",
    "[0, 0, 0, 0, 0, 0, 0, 0, 0],  #level 1\n",
    "[0, 0, 0, 0, 0, 0, 1, 1, 1],  #gap between level 1 and 2\n",
    "[0, 1, 0, 1, 0, 0, 0, 0, 0],  #level 2\n",
    "[0, 1, 0, 1, 1, 1, 0, 1, 1],  #gap between level 2 and 3\n",
    "[0, 1, 0, 0, 0, 1, 0, 0, 0],  #level 3\n",
    "[0, 1, 1, 1, 0, 1, 1, 1, 0],  #gap between level 3 and 4\n",
    "[0, 0, 0, 1, 0, 0, 0, 1, 0],  #level 4\n",
    "[0, 1, 1, 1, 1, 1, 0, 1, 0],  #gap between level 4 and 5\n",
    "[0, 0, 0, 0, 0, 1, 0, 1, 0]]   #level 5\n",
    "maze_solver(maze,(8,8),(0,0)).get_ans()"
   ]
  }
 ],
 "metadata": {
  "interpreter": {
   "hash": "b3c2662edca76c9582b5177562238e9d83f50ef021505af26d73d011b05e484c"
  },
  "kernelspec": {
   "display_name": "Python 3.10.0 64-bit",
   "language": "python",
   "name": "python3"
  },
  "language_info": {
   "codemirror_mode": {
    "name": "ipython",
    "version": 3
   },
   "file_extension": ".py",
   "mimetype": "text/x-python",
   "name": "python",
   "nbconvert_exporter": "python",
   "pygments_lexer": "ipython3",
   "version": "3.10.0"
  },
  "orig_nbformat": 4
 },
 "nbformat": 4,
 "nbformat_minor": 2
}
